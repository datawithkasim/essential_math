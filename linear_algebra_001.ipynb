{
 "cells": [
  {
   "cell_type": "code",
   "execution_count": 26,
   "metadata": {},
   "outputs": [],
   "source": [
    "import numpy as np\n",
    "import matplotlib.pyplot as plt \n"
   ]
  },
  {
   "cell_type": "code",
   "execution_count": 35,
   "metadata": {},
   "outputs": [
    {
     "name": "stdout",
     "output_type": "stream",
     "text": [
      "Vector: [ 2  4  6  4  5  6  7  8  9 10 11 12 13]\n"
     ]
    }
   ],
   "source": [
    "# example vector\n",
    "vector = np.array([2, 4, 6, 4, 5, 6, 7, 8, 9, 10, 11, 12, 13])\n",
    "print(\"Vector:\", vector)\n",
    "\n",
    "y_values = list(range(1, 11))"
   ]
  },
  {
   "cell_type": "code",
   "execution_count": 28,
   "metadata": {},
   "outputs": [
    {
     "data": {
      "image/png": "[encoded data removed]",
      "text/plain": [
       "<Figure size 640x480 with 1 Axes>"
      ]
     },
     "metadata": {},
     "output_type": "display_data"
    }
   ],
   "source": [
    "# Define the vector\n",
    "vector = np.array([3, 7, 5])\n",
    "\n",
    "# Define indices for the x-axis (since we only have 3 elements)\n",
    "indices = np.arange(len(vector))\n",
    "\n",
    "# Scatter plot\n",
    "plt.scatter(x=indices, y=vector)\n",
    "\n",
    "# Display the plot\n",
    "plt.show()"
   ]
  },
  {
   "cell_type": "markdown",
   "metadata": {},
   "source": [
    "### Practice Questions:\n",
    "\n",
    "1. Create a vector with 5 elements.\n",
    "2. Plot the vector on a 2D plane."
   ]
  },
  {
   "cell_type": "code",
   "execution_count": 29,
   "metadata": {},
   "outputs": [
    {
     "name": "stdout",
     "output_type": "stream",
     "text": [
      "Matrix:\n",
      " [[1 2]\n",
      " [3 4]\n",
      " [5 6]]\n"
     ]
    }
   ],
   "source": [
    "# Create a matrix\n",
    "matrix = np.array([[1, 2], [3, 4], [5, 6]])\n",
    "print(\"Matrix:\\n\", matrix)\n"
   ]
  },
  {
   "cell_type": "code",
   "execution_count": 30,
   "metadata": {},
   "outputs": [
    {
     "name": "stdout",
     "output_type": "stream",
     "text": [
      "Student Scores Matrix:\n",
      " [[85 90 78]\n",
      " [88 76 92]\n",
      " [79 84 88]]\n"
     ]
    }
   ],
   "source": [
    "scores = np.array([\n",
    "    [85, 90, 78],\n",
    "    [88, 76, 92],\n",
    "    [79, 84, 88]\n",
    "])\n",
    "print(\"Student Scores Matrix:\\n\", scores)"
   ]
  },
  {
   "cell_type": "markdown",
   "metadata": {},
   "source": [
    "### Practice Questions:\n",
    "\n",
    "1. Create a 3x3 matrix representing student scores in three subjects.\n",
    "2. Explain what each row and column of your matrix represents.\n"
   ]
  },
  {
   "cell_type": "code",
   "execution_count": 31,
   "metadata": {},
   "outputs": [
    {
     "name": "stdout",
     "output_type": "stream",
     "text": [
      "Matrix Addition:\n",
      " [[ 6  8]\n",
      " [10 12]]\n",
      "Matrix Subtraction:\n",
      " [[-4 -4]\n",
      " [-4 -4]]\n"
     ]
    }
   ],
   "source": [
    "A = np.array([[1, 2], [3, 4]])\n",
    "\n",
    "B = np.array([[5, 6], [7, 8]])\n",
    "\n",
    "# Addition\n",
    "C = A + B\n",
    "print(\"Matrix Addition:\\n\", C)\n",
    "\n",
    "# Subtraction\n",
    "D = A - B\n",
    "print(\"Matrix Subtraction:\\n\", D)\n"
   ]
  },
  {
   "cell_type": "code",
   "execution_count": 32,
   "metadata": {},
   "outputs": [
    {
     "name": "stdout",
     "output_type": "stream",
     "text": [
      "Matrix Multiplication:\n",
      " [[19 22]\n",
      " [43 50]]\n"
     ]
    }
   ],
   "source": [
    "A = np.array([[1, 2], [3, 4]])\n",
    "B = np.array([[5, 6], [7, 8]])\n",
    "\n",
    "# Matrix multiplication\n",
    "C = np.dot(A, B)  # or A @ B\n",
    "print(\"Matrix Multiplication:\\n\", C)\n"
   ]
  },
  {
   "cell_type": "code",
   "execution_count": 33,
   "metadata": {},
   "outputs": [
    {
     "name": "stdout",
     "output_type": "stream",
     "text": [
      "Matrix:\n",
      " [[1 2]\n",
      " [3 4]]\n"
     ]
    }
   ],
   "source": [
    "A = np.array([[1, 2], [3, 4]])\n",
    "print(\"Matrix:\\n\", A)"
   ]
  },
  {
   "cell_type": "code",
   "execution_count": 34,
   "metadata": {},
   "outputs": [
    {
     "name": "stdout",
     "output_type": "stream",
     "text": [
      "Matrix Transpose:\n",
      " [[1 3]\n",
      " [2 4]]\n"
     ]
    }
   ],
   "source": [
    "A_T = np.transpose(A)\n",
    "print(\"Matrix Transpose:\\n\", A_T)"
   ]
  },
  {
   "cell_type": "markdown",
   "metadata": {},
   "source": [
    "### Practice Question: Matrix Transpose\n",
    "\n",
    "1. Given the matrix:\n",
    "   \\[\n",
    "   A = \n",
    "   \\begin{bmatrix}\n",
    "   2 & 4 & 6 \\\\\n",
    "   1 & 3 & 5\n",
    "   \\end{bmatrix}\n",
    "   \\]\n",
    "   \n",
    "   - Find the transpose of \\(A\\).\n",
    "   - Write down the dimensions of both \\(A\\) and \\(A^T\\).\n",
    "\n",
    "2. What happens when you take the transpose of a square matrix? Test this with:\n",
    "   \\[\n",
    "   B = \n",
    "   \\begin{bmatrix}\n",
    "   1 & 2 \\\\\n",
    "   3 & 4\n",
    "   \\end{bmatrix}\n",
    "   \\]\n"
   ]
  }
 ],
 "metadata": {
  "kernelspec": {
   "display_name": "essential_math",
   "language": "python",
   "name": "python3"
  },
  "language_info": {
   "codemirror_mode": {
    "name": "ipython",
    "version": 3
   },
   "file_extension": ".py",
   "mimetype": "text/x-python",
   "name": "python",
   "nbconvert_exporter": "python",
   "pygments_lexer": "ipython3",
   "version": "3.12.8"
  }
 },
 "nbformat": 4,
 "nbformat_minor": 2
}
